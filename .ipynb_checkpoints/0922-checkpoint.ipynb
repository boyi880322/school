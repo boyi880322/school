{
 "cells": [
  {
   "cell_type": "code",
   "execution_count": 1,
   "metadata": {},
   "outputs": [
    {
     "name": "stdout",
     "output_type": "stream",
     "text": [
      "30\n"
     ]
    }
   ],
   "source": [
    "x=10 \n",
    "y=20\n",
    "print(x+y)"
   ]
  },
  {
   "cell_type": "code",
   "execution_count": 4,
   "metadata": {
    "scrolled": true
   },
   "outputs": [
    {
     "name": "stdout",
     "output_type": "stream",
     "text": [
      "Richard 的bmi是 21.14\n",
      "Tom 的bmi是 26.45\n",
      "Mary 的bmi是 18.03\n"
     ]
    }
   ],
   "source": [
    "names = ['Richard' , 'Tom' , 'Mary']\n",
    "heights = [1.74 , 1.65 , 1.58]\n",
    "weights = [64 , 72 , 45]\n",
    "for i in range (len(names)) :\n",
    "    bmi = weights[i] / heights[i] ** 2\n",
    "    print(names[i] , \"的bmi是\" , round(bmi ,2))"
   ]
  }
 ],
 "metadata": {
  "kernelspec": {
   "display_name": "Python 3",
   "language": "python",
   "name": "python3"
  },
  "language_info": {
   "codemirror_mode": {
    "name": "ipython",
    "version": 3
   },
   "file_extension": ".py",
   "mimetype": "text/x-python",
   "name": "python",
   "nbconvert_exporter": "python",
   "pygments_lexer": "ipython3",
   "version": "3.7.6"
  }
 },
 "nbformat": 4,
 "nbformat_minor": 4
}
